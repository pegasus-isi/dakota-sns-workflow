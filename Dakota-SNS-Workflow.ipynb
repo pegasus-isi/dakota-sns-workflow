{
 "cells": [
  {
   "cell_type": "markdown",
   "metadata": {},
   "source": [
    "# Dakota SNS Workflow\n",
    "A simple pipeline workflow that runs a Dakota job and a postprocessing job.\n",
    "\n",
    "This workflow takes for granted that dakota and mantid are installed on the machine under /opt/dakota and /opt/Mantid."
   ]
  },
  {
   "cell_type": "markdown",
   "metadata": {
    "collapsed": true
   },
   "source": [
    "## Import Pegasus API and define directory"
   ]
  },
  {
   "cell_type": "code",
   "execution_count": null,
   "metadata": {
    "collapsed": true
   },
   "outputs": [],
   "source": [
    "from Pegasus.jupyter.instance import *\n",
    "workflow_dir = '/local-scratch/georgpap/jypyter_dakota_sns_test'"
   ]
  },
  {
   "cell_type": "markdown",
   "metadata": {},
   "source": [
    "## Add information about input files to the replica catalog"
   ]
  },
  {
   "cell_type": "code",
   "execution_count": null,
   "metadata": {
    "collapsed": true
   },
   "outputs": [],
   "source": [
    "rc = ReplicaCatalog(workflow_dir)\n",
    "rc.add('DS.in', 'https://raw.githubusercontent.com/pegasus-isi/dakota-sns-workflow/master/input/DS.in', site='GitHub')\n",
    "rc.add('LiCl_290K.nxs', 'https://raw.githubusercontent.com/pegasus-isi/dakota-sns-workflow/master/input/LiCl_290K.nxs', site='GitHub')"
   ]
  },
  {
   "cell_type": "markdown",
   "metadata": {},
   "source": [
    "## Add information about executables to the transformation catalog"
   ]
  },
  {
   "cell_type": "code",
   "execution_count": null,
   "metadata": {
    "collapsed": true
   },
   "outputs": [],
   "source": [
    "tc = TransformationCatalog(workflow_dir)\n",
    "e_DakotaWrapper = Executable('DakotaWrapper', arch=Arch.X86_64, os=OSType.LINUX, installed=False)\n",
    "e_DakotaWrapper.addPFN(PFN('https://raw.githubusercontent.com/pegasus-isi/dakota-sns-workflow/master/bin/DakotaWrapper.sh', 'condorpool'))\n",
    "\n",
    "e_DS = Executable('DS.py', arch=Arch.X86_64, os=OSType.LINUX, installed=False)\n",
    "e_DS.addPFN(PFN('https://raw.githubusercontent.com/pegasus-isi/dakota-sns-workflow/master/bin/DS.py', 'condorpool'))\n",
    "\n",
    "e_DSout = Executable('DSout', arch=Arch.X86_64, os=OSType.LINUX, installed=False)\n",
    "e_DSout.addPFN(PFN('https://raw.githubusercontent.com/pegasus-isi/dakota-sns-workflow/master/bin/DSout.py', 'condorpool'))\n",
    "\n",
    "tc.add(e_DakotaWrapper)\n",
    "tc.add(e_DS)\n",
    "tc.add(e_DSout)"
   ]
  },
  {
   "cell_type": "markdown",
   "metadata": {},
   "source": [
    "## Add sites catalog"
   ]
  },
  {
   "cell_type": "code",
   "execution_count": null,
   "metadata": {
    "collapsed": true
   },
   "outputs": [],
   "source": [
    "sc = SitesCatalog(workflow_dir)\n",
    "sc.add_site('condorpool', arch=Arch.X86_64, os=OSType.LINUX)\n",
    "sc.add_site_profile('condorpool', namespace=Namespace.PEGASUS, key='style', value='condor')\n",
    "sc.add_site_profile('condorpool', namespace=Namespace.CONDOR, key='universe', value='vanilla')"
   ]
  },
  {
   "cell_type": "markdown",
   "metadata": {},
   "source": [
    "## Workflow description"
   ]
  },
  {
   "cell_type": "code",
   "execution_count": null,
   "metadata": {
    "collapsed": true
   },
   "outputs": [],
   "source": [
    "dax = ADAG(\"dakota_sns_pipeline\")\n",
    "\n",
    "dakota_in = File('DS.in')\n",
    "sim_data = File('LiCl_290K.nxs')\n",
    "dakota_out = File('DS.out')\n",
    "dakota_stdout = File('DS.stdout')\n",
    "dakota_rst = File('dakota.rst')\n",
    "DSout_plot = File('DSout.png')\n",
    "DSout_stdout = File('DSout.stdout')\n",
    "\n",
    "dakota = Job('DakotaWrapper')\n",
    "dakota.addArguments('-i', dakota_in, '-o', dakota_out, '-s', dakota_stdout)\n",
    "dakota.uses(dakota_in, link=Link.INPUT)\n",
    "dakota.uses(sim_data, link=Link.INPUT)\n",
    "dakota.uses(e_DS, link=Link.INPUT)\n",
    "dakota.uses(dakota_out, link=Link.OUTPUT, transfer=True, register=False)\n",
    "dakota.uses(dakota_stdout, link=Link.OUTPUT, transfer=True, register=False)\n",
    "dakota.uses(dakota_rst, link=Link.OUTPUT, transfer=True, register=False)\n",
    "dax.addJob(dakota)\n",
    "\n",
    "DSout = Job('DSout')\n",
    "DSout.setStdout(DSout_stdout)\n",
    "DSout.uses(sim_data, link=Link.INPUT)\n",
    "DSout.uses(dakota_out, link=Link.INPUT)\n",
    "DSout.uses(DSout_plot, link=Link.OUTPUT, transfer=True, register=False)\n",
    "DSout.uses(DSout_stdout, link=Link.OUTPUT, transfer=True, register=False)\n",
    "dax.addJob(DSout)\n"
   ]
  },
  {
   "cell_type": "markdown",
   "metadata": {},
   "source": [
    "## Creating an instance for running the workflow"
   ]
  },
  {
   "cell_type": "code",
   "execution_count": null,
   "metadata": {
    "collapsed": true
   },
   "outputs": [],
   "source": [
    "instance = Instance(dax, replica_catalog=rc, transformation_catalog=tc, sites_catalog=sc, workflow_dir=workflow_dir)"
   ]
  },
  {
   "cell_type": "markdown",
   "metadata": {},
   "source": [
    "## Running the workflow"
   ]
  },
  {
   "cell_type": "code",
   "execution_count": null,
   "metadata": {},
   "outputs": [],
   "source": [
    "instance.run(site='condorpool', force=True)"
   ]
  },
  {
   "cell_type": "code",
   "execution_count": null,
   "metadata": {},
   "outputs": [],
   "source": [
    "instance.status(loop=True, delay=5)"
   ]
  }
 ],
 "metadata": {
  "kernelspec": {
   "display_name": "Python 3",
   "language": "python",
   "name": "python3"
  },
  "language_info": {
   "codemirror_mode": {
    "name": "ipython",
    "version": 3
   },
   "file_extension": ".py",
   "mimetype": "text/x-python",
   "name": "python",
   "nbconvert_exporter": "python",
   "pygments_lexer": "ipython3",
   "version": "3.4.5"
  }
 },
 "nbformat": 4,
 "nbformat_minor": 2
}
